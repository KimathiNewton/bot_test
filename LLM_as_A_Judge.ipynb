{
 "cells": [
  {
   "cell_type": "code",
   "execution_count": 2,
   "id": "a128af0d-55ac-47c9-b026-a8a7d9dbdb66",
   "metadata": {},
   "outputs": [],
   "source": [
    "import pandas as pd\n",
    "import numpy as np\n",
    "from groq import Groq\n",
    "from dotenv import load_dotenv\n",
    "import os"
   ]
  },
  {
   "cell_type": "code",
   "execution_count": 128,
   "id": "d85de2df-2be3-47a5-8e13-881b10d85ed8",
   "metadata": {},
   "outputs": [],
   "source": [
    "pd.set_option('display.max_colwidth', None)"
   ]
  },
  {
   "cell_type": "code",
   "execution_count": 3,
   "id": "1aa617d5-143f-4ae6-bc7b-ef805e71cb7b",
   "metadata": {},
   "outputs": [],
   "source": [
    "df=pd.read_csv(\"data/bot_responses.csv\")\n",
    "olivia_df=pd.read_csv(\"data/olivia_conversation_with_cosine.csv\")\n",
    "bella_df=pd.read_csv(\"data/bella_conversation_with_cosine.csv\")\n",
    "mike_df=pd.read_csv(\"data/mike_conversation_with_cosine.csv\")\n",
    "mia_df=pd.read_csv(\"data/mia_conversation_with_cosine.csv\")"
   ]
  },
  {
   "cell_type": "markdown",
   "id": "0f6429ea-e58d-4780-8d99-2ba6b958b610",
   "metadata": {},
   "source": [
    "# LLM As a Judge"
   ]
  },
  {
   "cell_type": "code",
   "execution_count": 44,
   "id": "ef5b79ea-54c4-4de2-bb4f-556f21746543",
   "metadata": {},
   "outputs": [],
   "source": [
    "olivia_dict=olivia_df.to_dict('records')"
   ]
  },
  {
   "cell_type": "code",
   "execution_count": 47,
   "id": "01d26db0-884a-47af-99e3-f431798037d1",
   "metadata": {},
   "outputs": [
    {
     "data": {
      "text/plain": [
       "{'Question': '- Скільки вам років?',\n",
       " 'Olivia_Target_Response': '42',\n",
       " 'Olivia_Response': 'Мені 42 роки.',\n",
       " 'cosine_olivia': 0.36935985}"
      ]
     },
     "execution_count": 47,
     "metadata": {},
     "output_type": "execute_result"
    }
   ],
   "source": [
    "olivia_dict[0]"
   ]
  },
  {
   "cell_type": "code",
   "execution_count": 49,
   "id": "9dbef62a-a2b3-46da-8f98-abd9f93b20ee",
   "metadata": {},
   "outputs": [],
   "source": [
    "def llm(prompt,model):\n",
    "        response = client.chat.completions.create(\n",
    "        model=model,\n",
    "        messages=[{\"role\": \"user\", \"content\": prompt}])\n",
    "        return response.choices[0].message.content"
   ]
  },
  {
   "cell_type": "code",
   "execution_count": 87,
   "id": "5d8cb87f-3a54-489d-87d2-2af7f22a1289",
   "metadata": {},
   "outputs": [],
   "source": [
    "prompt_template = \"\"\"\n",
    "As an expert evaluator, your task is to assess the quality and relevance of the bot answer in comparies to the . \n",
    "Compare the generated response to the provided question and the actual answer, focusing on semantic correctness and similarity.\n",
    "\n",
    "Evaluation criteria:\n",
    "- Accurate: Aligns with the reference in all facts and details, even if expressed differently.\n",
    "- Inaccurate: Contradicts the original answer, adds new claims, omits, or alters details.\n",
    "- Partially accurate: Falls between accurate and inaccurate, with some correct and some incorrect elements.\n",
    "\n",
    "Evaluation data:\n",
    "Question: {question}\n",
    "Actual Answer: {Olivia_Target_Response}\n",
    "Generated Answer: {Olivia_Response}\n",
    "\n",
    "Analyze the content and context of the generated answer in relation to the question.\n",
    "Provide your evaluation in parsable JSON without using code blocks:\n",
    "\n",
    "{{\n",
    "  \"Accuracy\": \"ACCURATE\" | \"PARTIALLY_ACCURATE\" | \"INACCURATE\",\n",
    "  \"Explanation\": \"Brief explanation for your evaluation\"\n",
    "}}\n",
    "\"\"\".strip()"
   ]
  },
  {
   "cell_type": "code",
   "execution_count": 59,
   "id": "72bbdcc2-c125-4687-962b-25bd1895395d",
   "metadata": {},
   "outputs": [],
   "source": [
    "record=olivia_dict[0]\n",
    "question=record[\"Question\"]\n",
    "Olivia_Response=record[\"Olivia_Response\"]\n",
    "Olivia_Target_Response=record[\"Olivia_Target_Response\"]"
   ]
  },
  {
   "cell_type": "code",
   "execution_count": 60,
   "id": "f7c59255-e9d7-4cb4-bee9-a30538eb75e9",
   "metadata": {},
   "outputs": [
    {
     "name": "stdout",
     "output_type": "stream",
     "text": [
      "As an expert evaluator, your task is to assess the quality and relevance of the bot answer in comparies to the . \n",
      "Compare the generated response to the provided question and the actual answer, focusing on semantic correctness and similarity.\n",
      "\n",
      "Evaluation criteria:\n",
      "- Accurate: Aligns with the reference in all facts and details, even if expressed differently.\n",
      "- Inaccurate: Contradicts the original answer, adds new claims, omits, or alters details.\n",
      "- Partially accurate: Falls between accurate and inaccurate, with some correct and some incorrect elements.\n",
      "\n",
      "Evaluation data:\n",
      "Question: - Скільки вам років?\n",
      "Actual Answer: 42\n",
      "Generated Answer: Мені 42 роки.\n",
      "\n",
      "Analyze the content and context of the generated answer in relation to the question. Provide your evaluation in parsable JSON format:\n",
      "\n",
      "{\n",
      "  \"Accuracy\": \"ACCURATE\" | \"PARTIALLY ACCURATE\" | \"INACCURATE\",\n",
      "  \"Explanation\": \"Brief explanation for your evaluation\"\n",
      "}\n"
     ]
    }
   ],
   "source": [
    "prompt=prompt_template.format(question=question,Olivia_Target_Response=Olivia_Target_Response,Olivia_Response=Olivia_Response)\n",
    "print(prompt)"
   ]
  },
  {
   "cell_type": "code",
   "execution_count": 88,
   "id": "99a313cd-c518-4234-b4a6-4f994c9ba2d8",
   "metadata": {},
   "outputs": [
    {
     "data": {
      "application/vnd.jupyter.widget-view+json": {
       "model_id": "80514bd124b64bb7b500287160f4187d",
       "version_major": 2,
       "version_minor": 0
      },
      "text/plain": [
       "  0%|          | 0/84 [00:00<?, ?it/s]"
      ]
     },
     "metadata": {},
     "output_type": "display_data"
    }
   ],
   "source": [
    "from tqdm.auto import tqdm\n",
    "import json\n",
    "\n",
    "evaluations=[]\n",
    "\n",
    "for record in tqdm(olivia_dict):\n",
    "    question=record[\"Question\"]\n",
    "    Olivia_Response=record[\"Olivia_Response\"]\n",
    "    Olivia_Target_Response=record[\"Olivia_Target_Response\"]\n",
    "    prompt=prompt_template.format(question=question,\n",
    "                                  Olivia_Target_Response=Olivia_Target_Response,\n",
    "                                  Olivia_Response=Olivia_Response)\n",
    "\n",
    "    evaluation=llm(prompt,model='mixtral-8x7b-32768')\n",
    "    evaluation = json.loads(evaluation)\n",
    "    evaluations.append((record,evaluation))"
   ]
  },
  {
   "cell_type": "code",
   "execution_count": 91,
   "id": "8f0850bd-681f-4aae-bea5-bab1362bc62d",
   "metadata": {},
   "outputs": [],
   "source": [
    "df_eval_olivia = pd.DataFrame(evaluations, columns=['record','evaluation'])\n",
    "\n",
    "df_eval_olivia['question'] = df_eval_olivia.record.apply(lambda d: d['Question'])\n",
    "df_eval_olivia['Olivia_Target_Response'] = df_eval_olivia.record.apply(lambda d: d['Olivia_Target_Response'])\n",
    "df_eval_olivia['Olivia_Response'] = df_eval_olivia.record.apply(lambda d: d['Olivia_Response'])\n",
    "df_eval_olivia['cosine_olivia'] = df_eval_olivia.record.apply(lambda d: d['cosine_olivia'])\n",
    "\n",
    "df_eval_olivia['accuracy'] = df_eval_olivia.evaluation.apply(lambda d: d['Accuracy'])\n",
    "df_eval_olivia['explanation'] = df_eval_olivia.evaluation.apply(lambda d: d['Explanation'])\n",
    "\n",
    "del df_eval_olivia['record']\n",
    "del df_eval_olivia['evaluation']"
   ]
  },
  {
   "cell_type": "code",
   "execution_count": 93,
   "id": "4105ea83-b48a-4c16-82f9-51d633b615de",
   "metadata": {},
   "outputs": [
    {
     "data": {
      "text/html": [
       "<div>\n",
       "<style scoped>\n",
       "    .dataframe tbody tr th:only-of-type {\n",
       "        vertical-align: middle;\n",
       "    }\n",
       "\n",
       "    .dataframe tbody tr th {\n",
       "        vertical-align: top;\n",
       "    }\n",
       "\n",
       "    .dataframe thead th {\n",
       "        text-align: right;\n",
       "    }\n",
       "</style>\n",
       "<table border=\"1\" class=\"dataframe\">\n",
       "  <thead>\n",
       "    <tr style=\"text-align: right;\">\n",
       "      <th></th>\n",
       "      <th>question</th>\n",
       "      <th>Olivia_Target_Response</th>\n",
       "      <th>Olivia_Response</th>\n",
       "      <th>cosine_olivia</th>\n",
       "      <th>accuracy</th>\n",
       "      <th>explanation</th>\n",
       "    </tr>\n",
       "  </thead>\n",
       "  <tbody>\n",
       "    <tr>\n",
       "      <th>0</th>\n",
       "      <td>- Скільки вам років?</td>\n",
       "      <td>42</td>\n",
       "      <td>Мені 42 роки.</td>\n",
       "      <td>0.369360</td>\n",
       "      <td>ACCURATE</td>\n",
       "      <td>The generated answer is a direct and grammatically correct translation of the actual answer into Ukrainian, which aligns with the reference in all facts and details.</td>\n",
       "    </tr>\n",
       "    <tr>\n",
       "      <th>1</th>\n",
       "      <td>- В якому місті ви народились?</td>\n",
       "      <td>Вільногірськ</td>\n",
       "      <td>Я народилась у Вільногірську, Україна.</td>\n",
       "      <td>0.819576</td>\n",
       "      <td>ACCURATE</td>\n",
       "      <td>The generated answer is semantically equivalent to the actual answer. Both state that the subject was born in Вільногірськ.</td>\n",
       "    </tr>\n",
       "    <tr>\n",
       "      <th>2</th>\n",
       "      <td>– Де ви виросли?</td>\n",
       "      <td>м. Вільногірськ, с. Адамівка</td>\n",
       "      <td>Я виросла у Вільногірську, Україна.</td>\n",
       "      <td>0.882031</td>\n",
       "      <td>ACCURATE</td>\n",
       "      <td>The generated answer aligns with the reference in all facts and details. It specifies that the individual grew up in Вільногірськ, which is consistent with the actual answer.</td>\n",
       "    </tr>\n",
       "    <tr>\n",
       "      <th>3</th>\n",
       "      <td>- У якому місті ви мешкаєте?</td>\n",
       "      <td>Вільногірськ</td>\n",
       "      <td>Я зараз мешкаю у Вільногірську, Україна.</td>\n",
       "      <td>0.813442</td>\n",
       "      <td>ACCURATE</td>\n",
       "      <td>The generated answer is consistent with the actual answer. Both indicate that the bot resides in the city of Vільногірськ.</td>\n",
       "    </tr>\n",
       "    <tr>\n",
       "      <th>4</th>\n",
       "      <td>- Скільки у вас братів та сестер? Як їх звати?</td>\n",
       "      <td>одна сестра рідна Світлана, та 5 двоюрідних сестер та 1 двоюрідний брат</td>\n",
       "      <td>Я не знаю точної інформації про своїх братів і сестер.</td>\n",
       "      <td>0.890594</td>\n",
       "      <td>INACCURATE</td>\n",
       "      <td>The generated answer contradicts the original answer by stating that it doesn't have the exact information about siblings. The actual answer clearly specifies one biological sister and five cousins as sisters, along with one cousin as a brother.</td>\n",
       "    </tr>\n",
       "  </tbody>\n",
       "</table>\n",
       "</div>"
      ],
      "text/plain": [
       "                                         question  \\\n",
       "0                            - Скільки вам років?   \n",
       "1                  - В якому місті ви народились?   \n",
       "2                                – Де ви виросли?   \n",
       "3                    - У якому місті ви мешкаєте?   \n",
       "4  - Скільки у вас братів та сестер? Як їх звати?   \n",
       "\n",
       "                                                    Olivia_Target_Response  \\\n",
       "0                                                                       42   \n",
       "1                                                             Вільногірськ   \n",
       "2                                             м. Вільногірськ, с. Адамівка   \n",
       "3                                                             Вільногірськ   \n",
       "4  одна сестра рідна Світлана, та 5 двоюрідних сестер та 1 двоюрідний брат   \n",
       "\n",
       "                                          Olivia_Response  cosine_olivia  \\\n",
       "0                                           Мені 42 роки.       0.369360   \n",
       "1                  Я народилась у Вільногірську, Україна.       0.819576   \n",
       "2                     Я виросла у Вільногірську, Україна.       0.882031   \n",
       "3                Я зараз мешкаю у Вільногірську, Україна.       0.813442   \n",
       "4  Я не знаю точної інформації про своїх братів і сестер.       0.890594   \n",
       "\n",
       "     accuracy  \\\n",
       "0    ACCURATE   \n",
       "1    ACCURATE   \n",
       "2    ACCURATE   \n",
       "3    ACCURATE   \n",
       "4  INACCURATE   \n",
       "\n",
       "                                                                                                                                                                                                                                             explanation  \n",
       "0                                                                                  The generated answer is a direct and grammatically correct translation of the actual answer into Ukrainian, which aligns with the reference in all facts and details.  \n",
       "1                                                                                                                            The generated answer is semantically equivalent to the actual answer. Both state that the subject was born in Вільногірськ.  \n",
       "2                                                                         The generated answer aligns with the reference in all facts and details. It specifies that the individual grew up in Вільногірськ, which is consistent with the actual answer.  \n",
       "3                                                                                                                             The generated answer is consistent with the actual answer. Both indicate that the bot resides in the city of Vільногірськ.  \n",
       "4  The generated answer contradicts the original answer by stating that it doesn't have the exact information about siblings. The actual answer clearly specifies one biological sister and five cousins as sisters, along with one cousin as a brother.  "
      ]
     },
     "execution_count": 93,
     "metadata": {},
     "output_type": "execute_result"
    }
   ],
   "source": [
    "df_eval_olivia.head(5)"
   ]
  },
  {
   "cell_type": "code",
   "execution_count": 96,
   "id": "2b5f4c10-2e4b-4040-915b-b329f4cff1b2",
   "metadata": {},
   "outputs": [],
   "source": [
    "df_eval_olivia.to_csv('data/olivia_accuracy.csv', index=False)\n"
   ]
  },
  {
   "cell_type": "code",
   "execution_count": 116,
   "id": "5ccbf38f-12cf-48be-9eee-7179eeb61713",
   "metadata": {},
   "outputs": [],
   "source": [
    "prompt_template = \"\"\"\n",
    "As an expert evaluator, your task is to assess the quality and relevance of the bot answer in comparison to the actual answer. \n",
    "Compare the generated response to the provided question and the actual answer, focusing on semantic correctness and similarity.\n",
    "\n",
    "Evaluation criteria:\n",
    "- Accurate: Aligns with the reference in all facts and details, even if expressed differently.\n",
    "- Inaccurate: Contradicts the original answer, adds new claims, omits, or alters details.\n",
    "- Partially accurate: Falls between accurate and inaccurate, with some correct and some incorrect elements.\n",
    "\n",
    "Evaluation data:\n",
    "Question: {question}\n",
    "Actual Answer: {Target_Response}\n",
    "Generated Answer: {Response}\n",
    "\n",
    "Analyze the content and context of the generated answer in relation to the question. \n",
    "Return only a JSON response without any additional text or explanations. The format should be:\n",
    "\n",
    "{{\n",
    "  \"Accuracy\": \"ACCURATE\" | \"PARTIALLY_ACCURATE\" | \"INACCURATE\",\n",
    "  \"Explanation\": \"Brief explanation for your evaluation\"\n",
    "}}\n",
    "\"\"\".strip()\n"
   ]
  },
  {
   "cell_type": "code",
   "execution_count": 117,
   "id": "2241a81a-2bfe-4303-9c14-dbc913bd27ee",
   "metadata": {},
   "outputs": [],
   "source": [
    "def evaluate_bot_responses(bot_dict, model, prompt_template, bot_name):\n",
    "    evaluations = []\n",
    "\n",
    "    for record in tqdm(bot_dict):\n",
    "        question = record[\"Question\"]\n",
    "        Response = record[f\"{bot_name}_Response\"]\n",
    "        Target_Response = record[f\"{bot_name}_Target_Response\"]\n",
    "        \n",
    "        prompt = prompt_template.format(\n",
    "            question=question,\n",
    "            Target_Response=Target_Response,\n",
    "            Response=Response\n",
    "        )\n",
    "        \n",
    "        evaluation = llm(prompt, model=model)\n",
    "        evaluation = json.loads(evaluation)\n",
    "        evaluations.append((record, evaluation))\n",
    "    \n",
    "    return evaluations\n"
   ]
  },
  {
   "cell_type": "code",
   "execution_count": 98,
   "id": "0be71448-38cc-4ff2-9fec-99429f5cba0e",
   "metadata": {},
   "outputs": [],
   "source": [
    "bella_dict=bella_df.to_dict('records')\n",
    "mia_dict=mia_df.to_dict('records')\n",
    "mike_dict=mike_df.to_dict('records')"
   ]
  },
  {
   "cell_type": "code",
   "execution_count": 118,
   "id": "6701bdaf-e760-4bad-8c1f-e09b9d427d1f",
   "metadata": {},
   "outputs": [
    {
     "data": {
      "application/vnd.jupyter.widget-view+json": {
       "model_id": "07ed0b05a7ba418385044968db8d5769",
       "version_major": 2,
       "version_minor": 0
      },
      "text/plain": [
       "  0%|          | 0/84 [00:00<?, ?it/s]"
      ]
     },
     "metadata": {},
     "output_type": "display_data"
    }
   ],
   "source": [
    "# Evaluate for each bot with the bot name passed as an argument\n",
    "evaluations_mike = evaluate_bot_responses(mike_dict, model='mixtral-8x7b-32768', prompt_template=prompt_template, bot_name='Mike')\n",
    "evaluations_bella = evaluate_bot_responses(bella_dict, model='mixtral-8x7b-32768', prompt_template=prompt_template, bot_name='Bella')\n",
    "evaluations_mia = evaluate_bot_responses(mia_dict, model='mixtral-8x7b-32768', prompt_template=prompt_template, bot_name='Mia')\n"
   ]
  },
  {
   "cell_type": "code",
   "execution_count": 120,
   "id": "22b87ebb-a887-4b5b-9fc4-9535ea4491a4",
   "metadata": {},
   "outputs": [],
   "source": [
    "# Assuming `evaluations_mike` is a list of tuples in the format (record, evaluation)\n",
    "df_eval_mike = pd.DataFrame(evaluations_mike, columns=['record', 'evaluation'])\n",
    "\n",
    "# Extracting fields from the 'record' dictionary for Mike\n",
    "df_eval_mike['question'] = df_eval_mike.record.apply(lambda d: d['Question'])\n",
    "df_eval_mike['Mike_Target_Response'] = df_eval_mike.record.apply(lambda d: d['Mike_Target_Response'])\n",
    "df_eval_mike['Mike_Response'] = df_eval_mike.record.apply(lambda d: d['Mike_Response'])\n",
    "df_eval_mike['cosine_mike'] = df_eval_mike.record.apply(lambda d: d['cosine_mike'])\n",
    "\n",
    "# Extracting fields from the 'evaluation' dictionary\n",
    "df_eval_mike['accuracy'] = df_eval_mike.evaluation.apply(lambda d: d['Accuracy'])\n",
    "df_eval_mike['explanation'] = df_eval_mike.evaluation.apply(lambda d: d['Explanation'])\n",
    "\n",
    "# Dropping the 'record' and 'evaluation' columns\n",
    "df_eval_mike.drop(columns=['record', 'evaluation'], inplace=True)\n"
   ]
  },
  {
   "cell_type": "code",
   "execution_count": 121,
   "id": "f1a57dc2-31ec-44ab-9523-1d3d429753e7",
   "metadata": {},
   "outputs": [],
   "source": [
    "# Assuming `evaluations_bella` is a list of tuples in the format (record, evaluation)\n",
    "df_eval_bella = pd.DataFrame(evaluations_bella, columns=['record', 'evaluation'])\n",
    "\n",
    "# Extracting fields from the 'record' dictionary for Bella\n",
    "df_eval_bella['question'] = df_eval_bella.record.apply(lambda d: d['Question'])\n",
    "df_eval_bella['Bella_Target_Response'] = df_eval_bella.record.apply(lambda d: d['Bella_Target_Response'])\n",
    "df_eval_bella['Bella_Response'] = df_eval_bella.record.apply(lambda d: d['Bella_Response'])\n",
    "df_eval_bella['cosine_bella'] = df_eval_bella.record.apply(lambda d: d['cosine_bella'])\n",
    "\n",
    "# Extracting fields from the 'evaluation' dictionary\n",
    "df_eval_bella['accuracy'] = df_eval_bella.evaluation.apply(lambda d: d['Accuracy'])\n",
    "df_eval_bella['explanation'] = df_eval_bella.evaluation.apply(lambda d: d['Explanation'])\n",
    "\n",
    "# Dropping the 'record' and 'evaluation' columns\n",
    "df_eval_bella.drop(columns=['record', 'evaluation'], inplace=True)\n"
   ]
  },
  {
   "cell_type": "code",
   "execution_count": 122,
   "id": "96052433-3740-4a1d-8189-69890c9ba147",
   "metadata": {},
   "outputs": [],
   "source": [
    "# Assuming `evaluations_mia` is a list of tuples in the format (record, evaluation)\n",
    "df_eval_mia = pd.DataFrame(evaluations_mia, columns=['record', 'evaluation'])\n",
    "\n",
    "# Extracting fields from the 'record' dictionary for Mia\n",
    "df_eval_mia['question'] = df_eval_mia.record.apply(lambda d: d['Question'])\n",
    "df_eval_mia['Mia_Target_Response'] = df_eval_mia.record.apply(lambda d: d['Mia_Target_Response'])\n",
    "df_eval_mia['Mia_Response'] = df_eval_mia.record.apply(lambda d: d['Mia_Response'])\n",
    "df_eval_mia['cosine_mia'] = df_eval_mia.record.apply(lambda d: d['cosine_mia'])\n",
    "\n",
    "# Extracting fields from the 'evaluation' dictionary\n",
    "df_eval_mia['accuracy'] = df_eval_mia.evaluation.apply(lambda d: d['Accuracy'])\n",
    "df_eval_mia['explanation'] = df_eval_mia.evaluation.apply(lambda d: d['Explanation'])\n",
    "\n",
    "# Dropping the 'record' and 'evaluation' columns\n",
    "df_eval_mia.drop(columns=['record', 'evaluation'], inplace=True)\n"
   ]
  },
  {
   "cell_type": "code",
   "execution_count": 123,
   "id": "4bce2e42-aef0-4865-b546-ca4cfc0d524a",
   "metadata": {},
   "outputs": [
    {
     "data": {
      "text/html": [
       "<div>\n",
       "<style scoped>\n",
       "    .dataframe tbody tr th:only-of-type {\n",
       "        vertical-align: middle;\n",
       "    }\n",
       "\n",
       "    .dataframe tbody tr th {\n",
       "        vertical-align: top;\n",
       "    }\n",
       "\n",
       "    .dataframe thead th {\n",
       "        text-align: right;\n",
       "    }\n",
       "</style>\n",
       "<table border=\"1\" class=\"dataframe\">\n",
       "  <thead>\n",
       "    <tr style=\"text-align: right;\">\n",
       "      <th></th>\n",
       "      <th>question</th>\n",
       "      <th>Mia_Target_Response</th>\n",
       "      <th>Mia_Response</th>\n",
       "      <th>cosine_mia</th>\n",
       "      <th>accuracy</th>\n",
       "      <th>explanation</th>\n",
       "    </tr>\n",
       "  </thead>\n",
       "  <tbody>\n",
       "    <tr>\n",
       "      <th>0</th>\n",
       "      <td>- Скільки вам років?</td>\n",
       "      <td>25</td>\n",
       "      <td>Мені 25 років .</td>\n",
       "      <td>0.298563</td>\n",
       "      <td>ACCURATE</td>\n",
       "      <td>The generated answer provides the correct age, 25, in a grammatically correct sentence that directly answers the question.</td>\n",
       "    </tr>\n",
       "    <tr>\n",
       "      <th>1</th>\n",
       "      <td>- В якому місті ви народились?</td>\n",
       "      <td>Львів</td>\n",
       "      <td>Я народилася у Львові.</td>\n",
       "      <td>0.832539</td>\n",
       "      <td>ACCURATE</td>\n",
       "      <td>The generated answer accurately provides the city of birth, Lviv, as the actual answer. The format is a first-person statement, but the information is correct.</td>\n",
       "    </tr>\n",
       "    <tr>\n",
       "      <th>2</th>\n",
       "      <td>– Де ви виросли?</td>\n",
       "      <td>Сокаль</td>\n",
       "      <td>Я виросла в місті Сокаль .</td>\n",
       "      <td>0.839899</td>\n",
       "      <td>ACCURATE</td>\n",
       "      <td>The generated answer is factually correct and aligns with the actual answer. It provides the name of the city where the individual grew up, matching the information in the actual answer.</td>\n",
       "    </tr>\n",
       "    <tr>\n",
       "      <th>3</th>\n",
       "      <td>- У якому місті ви мешкаєте?</td>\n",
       "      <td>Львів</td>\n",
       "      <td>Я проживаю у місті Львів.</td>\n",
       "      <td>0.839686</td>\n",
       "      <td>ACCURATE</td>\n",
       "      <td>The generated answer is semantically equivalent to the actual answer, both stating that the city of residence is Lviv.</td>\n",
       "    </tr>\n",
       "    <tr>\n",
       "      <th>4</th>\n",
       "      <td>- Скільки у вас братів та сестер? Як їх звати?</td>\n",
       "      <td>Одна сестра, звати Анастасія</td>\n",
       "      <td>У мене є одна сестра на ім'я Белла. Ми близнючки.</td>\n",
       "      <td>0.849377</td>\n",
       "      <td>INACCURATE</td>\n",
       "      <td>The generated answer contradicts the original answer by stating that the sister's name is Beлла, while the actual answer is Anastasiia.</td>\n",
       "    </tr>\n",
       "  </tbody>\n",
       "</table>\n",
       "</div>"
      ],
      "text/plain": [
       "                                         question  \\\n",
       "0                            - Скільки вам років?   \n",
       "1                  - В якому місті ви народились?   \n",
       "2                                – Де ви виросли?   \n",
       "3                    - У якому місті ви мешкаєте?   \n",
       "4  - Скільки у вас братів та сестер? Як їх звати?   \n",
       "\n",
       "            Mia_Target_Response  \\\n",
       "0                            25   \n",
       "1                         Львів   \n",
       "2                        Сокаль   \n",
       "3                         Львів   \n",
       "4  Одна сестра, звати Анастасія   \n",
       "\n",
       "                                        Mia_Response  cosine_mia    accuracy  \\\n",
       "0                                    Мені 25 років .    0.298563    ACCURATE   \n",
       "1                             Я народилася у Львові.    0.832539    ACCURATE   \n",
       "2                         Я виросла в місті Сокаль .    0.839899    ACCURATE   \n",
       "3                          Я проживаю у місті Львів.    0.839686    ACCURATE   \n",
       "4  У мене є одна сестра на ім'я Белла. Ми близнючки.    0.849377  INACCURATE   \n",
       "\n",
       "                                                                                                                                                                                  explanation  \n",
       "0                                                                  The generated answer provides the correct age, 25, in a grammatically correct sentence that directly answers the question.  \n",
       "1                             The generated answer accurately provides the city of birth, Lviv, as the actual answer. The format is a first-person statement, but the information is correct.  \n",
       "2  The generated answer is factually correct and aligns with the actual answer. It provides the name of the city where the individual grew up, matching the information in the actual answer.  \n",
       "3                                                                      The generated answer is semantically equivalent to the actual answer, both stating that the city of residence is Lviv.  \n",
       "4                                                     The generated answer contradicts the original answer by stating that the sister's name is Beлла, while the actual answer is Anastasiia.  "
      ]
     },
     "execution_count": 123,
     "metadata": {},
     "output_type": "execute_result"
    }
   ],
   "source": [
    "df_eval_mia.head()"
   ]
  },
  {
   "cell_type": "code",
   "execution_count": 125,
   "id": "8be06b15-d7b4-451f-8143-0633176e1bbf",
   "metadata": {},
   "outputs": [
    {
     "data": {
      "text/html": [
       "<div>\n",
       "<style scoped>\n",
       "    .dataframe tbody tr th:only-of-type {\n",
       "        vertical-align: middle;\n",
       "    }\n",
       "\n",
       "    .dataframe tbody tr th {\n",
       "        vertical-align: top;\n",
       "    }\n",
       "\n",
       "    .dataframe thead th {\n",
       "        text-align: right;\n",
       "    }\n",
       "</style>\n",
       "<table border=\"1\" class=\"dataframe\">\n",
       "  <thead>\n",
       "    <tr style=\"text-align: right;\">\n",
       "      <th></th>\n",
       "      <th>question</th>\n",
       "      <th>Mike_Target_Response</th>\n",
       "      <th>Mike_Response</th>\n",
       "      <th>cosine_mike</th>\n",
       "      <th>accuracy</th>\n",
       "      <th>explanation</th>\n",
       "    </tr>\n",
       "  </thead>\n",
       "  <tbody>\n",
       "    <tr>\n",
       "      <th>0</th>\n",
       "      <td>- Скільки вам років?</td>\n",
       "      <td>32</td>\n",
       "      <td>Мені 32 роки. Як щодо вас?</td>\n",
       "      <td>0.147329</td>\n",
       "      <td>ACCURATE</td>\n",
       "      <td>The generated answer provides the correct age (32 years), which is in line with the actual answer. Additionally, it goes beyond merely providing the age by engaging in conversation, asking about the user's age.</td>\n",
       "    </tr>\n",
       "    <tr>\n",
       "      <th>1</th>\n",
       "      <td>- В якому місті ви народились?</td>\n",
       "      <td>місті Долина Івано-Франківської області.</td>\n",
       "      <td>Я народився у місті Дрогобич. А ви де народилися?</td>\n",
       "      <td>0.815721</td>\n",
       "      <td>INACCURATE</td>\n",
       "      <td>The generated answer is inaccurate as it states the evaluator was born in Drogobych, which contradicts the actual answer that they were born in the city of Dolyna, Ivan-Frankivsk region.</td>\n",
       "    </tr>\n",
       "    <tr>\n",
       "      <th>2</th>\n",
       "      <td>– Де ви виросли?</td>\n",
       "      <td>Загалом я виріс у місті Долина Івано-Франківської області на квартирі. В дитинстві, особливо влітку, я часто їздив в гості до бабусі та дідуся як з маминої, так і з татаової сторони. Вони проживали в селі. Мамині батьки - у селі Станківці Долинського району, а татові - у селі Нижня Луковиця Стрийського району.З маминої сторони моя бабуся з дідом завжди забороняли мені все: не міг я піти на річку чи в клуб на дискотеку. Навпаки, з тата батьки бабусі з дідом підтримували і дозволяли мені ходити на річку та на дискотеку. Тому я завжди любив відвідувати татаових батьків, де мені дозволяли робити те, що хотів.</td>\n",
       "      <td>Я виріс у Дрогобичі. А де саме виросли ви?</td>\n",
       "      <td>0.846585</td>\n",
       "      <td>INACCURATE</td>\n",
       "      <td>The generated answer contradicts the actual answer as it states that the person grew up in Drogobych, while the actual answer clearly mentions that the person grew up in a city apartment in Dolyna, Ivano-Frankivsk region and often visited their grandparents in two different villages from both sides of their parents.</td>\n",
       "    </tr>\n",
       "  </tbody>\n",
       "</table>\n",
       "</div>"
      ],
      "text/plain": [
       "                         question  \\\n",
       "0            - Скільки вам років?   \n",
       "1  - В якому місті ви народились?   \n",
       "2                – Де ви виросли?   \n",
       "\n",
       "                                                                                                                                                                                                                                                                                                                                                                                                                                                                                                                                                                                                                   Mike_Target_Response  \\\n",
       "0                                                                                                                                                                                                                                                                                                                                                                                                                                                                                                                                                                                                                                    32   \n",
       "1                                                                                                                                                                                                                                                                                                                                                                                                                                                                                                                                                                                              місті Долина Івано-Франківської області.   \n",
       "2  Загалом я виріс у місті Долина Івано-Франківської області на квартирі. В дитинстві, особливо влітку, я часто їздив в гості до бабусі та дідуся як з маминої, так і з татаової сторони. Вони проживали в селі. Мамині батьки - у селі Станківці Долинського району, а татові - у селі Нижня Луковиця Стрийського району.З маминої сторони моя бабуся з дідом завжди забороняли мені все: не міг я піти на річку чи в клуб на дискотеку. Навпаки, з тата батьки бабусі з дідом підтримували і дозволяли мені ходити на річку та на дискотеку. Тому я завжди любив відвідувати татаових батьків, де мені дозволяли робити те, що хотів.   \n",
       "\n",
       "                                       Mike_Response  cosine_mike    accuracy  \\\n",
       "0                         Мені 32 роки. Як щодо вас?     0.147329    ACCURATE   \n",
       "1  Я народився у місті Дрогобич. А ви де народилися?     0.815721  INACCURATE   \n",
       "2         Я виріс у Дрогобичі. А де саме виросли ви?     0.846585  INACCURATE   \n",
       "\n",
       "                                                                                                                                                                                                                                                                                                                     explanation  \n",
       "0                                                                                                             The generated answer provides the correct age (32 years), which is in line with the actual answer. Additionally, it goes beyond merely providing the age by engaging in conversation, asking about the user's age.  \n",
       "1                                                                                                                                     The generated answer is inaccurate as it states the evaluator was born in Drogobych, which contradicts the actual answer that they were born in the city of Dolyna, Ivan-Frankivsk region.  \n",
       "2  The generated answer contradicts the actual answer as it states that the person grew up in Drogobych, while the actual answer clearly mentions that the person grew up in a city apartment in Dolyna, Ivano-Frankivsk region and often visited their grandparents in two different villages from both sides of their parents.  "
      ]
     },
     "execution_count": 125,
     "metadata": {},
     "output_type": "execute_result"
    }
   ],
   "source": [
    "df_eval_mike.head(3)"
   ]
  },
  {
   "cell_type": "code",
   "execution_count": 126,
   "id": "6e693b22-707b-449b-bada-2c4ad95340de",
   "metadata": {},
   "outputs": [],
   "source": [
    "df_eval_mike.to_csv('data/mike_accuracy.csv', index=False)\n",
    "df_eval_mia.to_csv('data/mia_accuracy.csv', index=False)\n",
    "df_eval_bella.to_csv('data/bella_accuracy.csv', index=False)\n"
   ]
  },
  {
   "cell_type": "code",
   "execution_count": null,
   "id": "40e8550c-6241-4112-8c10-ef27332e27da",
   "metadata": {},
   "outputs": [],
   "source": []
  }
 ],
 "metadata": {
  "kernelspec": {
   "display_name": "Python 3 (ipykernel)",
   "language": "python",
   "name": "python3"
  },
  "language_info": {
   "codemirror_mode": {
    "name": "ipython",
    "version": 3
   },
   "file_extension": ".py",
   "mimetype": "text/x-python",
   "name": "python",
   "nbconvert_exporter": "python",
   "pygments_lexer": "ipython3",
   "version": "3.9.13"
  }
 },
 "nbformat": 4,
 "nbformat_minor": 5
}
